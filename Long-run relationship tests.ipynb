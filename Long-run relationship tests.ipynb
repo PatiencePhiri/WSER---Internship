{
 "cells": [
  {
   "cell_type": "code",
   "execution_count": 1,
   "id": "59b9bc72-c780-4f36-ab5a-3d17fea28f72",
   "metadata": {},
   "outputs": [],
   "source": [
    "#Necessary packages\n",
    "import pandas as pd\n",
    "import numpy as np\n",
    "from datetime import datetime\n",
    "import statsmodels.api as sm\n",
    "import statsmodels.tsa.stattools as ts\n",
    "from math import sqrt\n",
    "import datetime \n",
    "import calendar\n",
    "import sys"
   ]
  },
  {
   "cell_type": "code",
   "execution_count": 2,
   "id": "167c5cc3-b750-4eb2-82bb-8a025ab5338e",
   "metadata": {},
   "outputs": [],
   "source": [
    "# Load the data from the Excel file\n",
    "file_path = r'C:\\Users\\PHIRI003\\OneDrive - Wageningen University & Research\\Documents\\WEcR Internship\\Work\\Dairy\\Merged_data.xlsx'\n",
    "df = pd.read_excel(file_path, header=0 )\n",
    "\n",
    "df.index = df['Date']"
   ]
  },
  {
   "cell_type": "code",
   "execution_count": 3,
   "id": "e8b160c8-a920-4231-a761-4cd5ec50fb93",
   "metadata": {},
   "outputs": [],
   "source": [
    "# Define the function to create seasonal dummy variables\n",
    "def SeasonalDummies(df, frequency='M'):\n",
    "    nT = len(df)  # Number of observations\n",
    "    startdate = df.index[0]  # Start date of the time series\n",
    "    datetime = pd.DataFrame(data=pd.date_range(startdate, periods=nT, freq=frequency), columns=[\"datetime\"])\n",
    "    monthnumber = datetime[\"datetime\"].dt.month  # Extract month numbers\n",
    "    monthname = pd.DataFrame()  # DataFrame to store month names\n",
    "    \n",
    "    for i in range(nT):\n",
    "        monthname.at[i, 'D'] = calendar.month_name[monthnumber[i]]  # Assign month names based on month numbers\n",
    "    \n",
    "    seasdum = pd.get_dummies(monthname)  # Create dummy variables for each month\n",
    "    seasdum = seasdum.drop('D_January', axis=1)  # Drop January to avoid multicollinearity\n",
    "    seasdum = seasdum.set_index(df.index)  # Set the index to match the original DataFrame\n",
    "    seasdum = seasdum.astype(int)\n",
    "    return seasdum\n",
    "\n",
    "# Create seasonal dummies\n",
    "seasdum = SeasonalDummies(df)\n",
    "\n",
    "# Combine the data with the seasonal dummy variables\n",
    "df = pd.concat([df, seasdum], axis=1)\n"
   ]
  },
  {
   "cell_type": "code",
   "execution_count": 8,
   "id": "a8e0f49d-dedd-4d9f-948c-133598268400",
   "metadata": {},
   "outputs": [],
   "source": [
    "#Create a break dummy for a break point\n",
    "break_date = '2015-01-01'\n",
    "#break_date = '2010-11-01'\n",
    "#break_date = '2022-12-01'\n",
    "\n",
    "df['break_dummy'] = (df['Date']>= break_date).astype(int)\n",
    "\n",
    "#create interaction terms between  break dummy and price indices\n",
    "df['Inter_API'] = df['break_dummy']*df['API'] \n",
    "df['Inter_PPI'] = df['break_dummy']*df['PPI'] \n",
    "df['Inter_CPI'] = df['break_dummy']*df['CPI'] \n",
    "\n",
    "#create a trend variable\n",
    "df['trend'] = range(1, len(df) + 1)  "
   ]
  },
  {
   "cell_type": "markdown",
   "id": "24daa3aa-d9fe-481f-a4f9-9985e1144a86",
   "metadata": {},
   "source": [
    "Test for long-run relationships among the key variables API, PPI and CPI\n",
    "Note: Gregory and Hansen test allows for more than one independent variables"
   ]
  },
  {
   "cell_type": "code",
   "execution_count": null,
   "id": "ac8e3464-53ee-4173-b39e-b86dcd10e4e2",
   "metadata": {},
   "outputs": [],
   "source": [
    "from statsmodels.tsa.stattools import adfuller\n",
    "\n",
    "#Gregory and Handen cointegration test - CPI\n",
    "# Create a list of independent variables\n",
    "X = df[['trend','API', 'PPI', 'break_dummy', 'Inter_API', 'Inter_PPI', 'D_April', 'D_August', 'D_December', \n",
    "        'D_February',  'D_July',  'D_June',  'D_March', 'D_May', 'D_September', 'D_October', 'D_November']] \n",
    "X = sm.add_constant(X)\n",
    "Y = df['CPI']\n",
    "\n",
    "# long -run OLS estimation\n",
    "ols_model = sm.OLS(Y,X).fit()\n",
    "print(ols_model.summary())\n",
    "\n",
    "#Cointegration test - Gregory and Hansen\n",
    "df['residuals'] = ols_model.resid\n",
    "\n",
    "# Perform the Augmented Dickey-Fuller test on the residuals\n",
    "adf_test = adfuller(df['residuals'], maxlag=12)\n",
    "\n",
    "# Print the results\n",
    "print('ADF statistic:', adf_test[0])\n"
   ]
  },
  {
   "cell_type": "code",
   "execution_count": null,
   "id": "250daca7-5bfc-4ff9-9ef4-39e236680485",
   "metadata": {},
   "outputs": [],
   "source": [
    "from statsmodels.tsa.stattools import adfuller\n",
    "\n",
    "#Gregory and Handen cointegration test -PPI\n",
    "X2 = df[['trend','API', 'CPI', 'break_dummy', 'Inter_API', 'Inter_CPI', 'D_April', 'D_August', 'D_December', 'D_February',  'D_July',  'D_June',  \n",
    "         'D_March', 'D_May', 'D_September', 'D_October', 'D_November']] \n",
    "X2 = sm.add_constant(X2)\n",
    "Y2 = df['PPI']\n",
    "\n",
    "#OLS estimation\n",
    "ols_model2 = sm.OLS(Y2,X2).fit()\n",
    "print(ols_model2.summary())\n",
    "\n",
    "#Cointegration test - Gregory and Hansen\n",
    "# Assuming 'df_with_dummies' is already defined and 'ols_model' is fitted\n",
    "df['residuals2'] = ols_model2.resid\n",
    "\n",
    "# Perform the Augmented Dickey-Fuller test on the residuals\n",
    "adf_test2 = adfuller(df['residuals2'], maxlag=12)\n",
    "\n",
    "# Print the results\n",
    "print('ADF statistic:', adf_test2[0])"
   ]
  },
  {
   "cell_type": "code",
   "execution_count": null,
   "id": "a1a7188e-b610-4a14-981e-af119fb5ec79",
   "metadata": {},
   "outputs": [],
   "source": [
    "from statsmodels.tsa.stattools import adfuller\n",
    "\n",
    "#Gregory and Handen cointegration test - API\n",
    "X3 = df[['trend','PPI', 'CPI', 'break_dummy', 'Inter_API', 'Inter_CPI', 'D_April', 'D_August', 'D_December', 'D_February',  'D_July',  'D_June',  'D_March', 'D_May', 'D_September', 'D_October', 'D_November']] \n",
    "#X = df_with_dummies[['trend','API']] \n",
    "X3 = sm.add_constant(X3)\n",
    "Y3 = df['API']\n",
    "\n",
    "#OLS estimation\n",
    "ols_model3 = sm.OLS(Y3,X3).fit()\n",
    "print(ols_model3.summary())\n",
    "\n",
    "#Cointegration test - Gregory and Hansen\n",
    "# Assuming 'df_with_dummies' is already defined and 'ols_model' is fitted\n",
    "df['residuals3'] = ols_model3.resid\n",
    "\n",
    "# Perform the Augmented Dickey-Fuller test on the residuals\n",
    "adf_test3 = adfuller(df['residuals3'], maxlag=12)\n",
    "\n",
    "# Print the results\n",
    "print('ADF statistic:', adf_test3[0])"
   ]
  },
  {
   "cell_type": "code",
   "execution_count": null,
   "id": "9344ab0c-2536-4a00-8cd8-67de83b2a8ab",
   "metadata": {},
   "outputs": [],
   "source": []
  }
 ],
 "metadata": {
  "kernelspec": {
   "display_name": "Python 3 (ipykernel)",
   "language": "python",
   "name": "python3"
  },
  "language_info": {
   "codemirror_mode": {
    "name": "ipython",
    "version": 3
   },
   "file_extension": ".py",
   "mimetype": "text/x-python",
   "name": "python",
   "nbconvert_exporter": "python",
   "pygments_lexer": "ipython3",
   "version": "3.13.5"
  }
 },
 "nbformat": 4,
 "nbformat_minor": 5
}
