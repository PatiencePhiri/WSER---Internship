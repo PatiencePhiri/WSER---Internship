{
 "cells": [
  {
   "cell_type": "code",
   "execution_count": 1,
   "id": "d26321e0-a2fe-47e2-ba06-8423d0635770",
   "metadata": {},
   "outputs": [],
   "source": [
    "#Necessary packages\n",
    "import pandas as pd\n",
    "import numpy as np\n",
    "from datetime import datetime\n",
    "import statsmodels.api as sm\n",
    "import statsmodels.tsa.stattools as ts\n",
    "from math import sqrt\n",
    "import datetime \n",
    "import calendar\n",
    "import sys\n",
    "import matplotlib.pyplot as plt"
   ]
  },
  {
   "cell_type": "code",
   "execution_count": null,
   "id": "83813716-9677-492e-8c50-223bc983adf9",
   "metadata": {},
   "outputs": [],
   "source": [
    "#Load Data\n",
    "# Maize silage price data\n",
    "file_path = \"C:/Users/PHIRI003/OneDrive - Wageningen University & Research/Documents/WEcR Internship/Work/Dairy/MaizeSilage.xlsx\"\n",
    "\n",
    "silage_df= pd.read_excel(file_path, header=0)\n",
    "\n",
    "#Mapping month to numeric\n",
    "month_mapping = {\n",
    "    'January': 1, 'February': 2, 'March': 3, 'April': 4,\n",
    "    'May': 5, 'June': 6, 'July': 7, 'August': 8,\n",
    "    'September': 9, 'October': 10, 'November': 11, 'December': 12\n",
    "}\n",
    "\n",
    "silage_df['Month'] = silage_df['Month'].map(month_mapping)\n",
    "\n",
    "#Create date column\n",
    "silage_df['Date'] = pd.to_datetime(silage_df[['Month', 'Year']].assign(DAY=1))\n",
    "\n",
    "#Order of columns\n",
    "cols = ['Date'] + [col for col in silage_df if col != 'Date']\n",
    "silage_df = silage_df[cols]\n",
    "\n",
    "#Drop unnecessary columns\n",
    "#col_drop = ['Year', 'Month']\n",
    "#cao_df = cao_df.drop(columns=col_drop)\n",
    "\n",
    "silage_df.head()"
   ]
  },
  {
   "cell_type": "code",
   "execution_count": 34,
   "id": "78431d58-b56f-46e7-b63d-9105a1919a28",
   "metadata": {},
   "outputs": [],
   "source": [
    "#LOading other datasets\n",
    "# Dairy products data (farm (API), processing (PPI) and retail(CPI))\n",
    "file_path2 = \"C:/Users/PHIRI003/OneDrive - Wageningen University & Research/Documents/WEcR Internship/Work/Dairy/Dairy_Data.xlsx\"\n",
    "Dairy_df= pd.read_excel(file_path2, header=0, sheet_name = \"Dairy\")\n",
    "\n",
    "nT = len(Dairy_df)  #date range lenth\n",
    "\n",
    "# Generate the date range starting from '2005-01-01'\n",
    "date_range = pd.date_range(start='2005-01-01', periods=nT, freq='M')\n",
    "\n",
    "# Assign the date range to a new column in the DataFrame\n",
    "Dairy_df['Date'] = date_range\n",
    "Dairy_df['Date'] = pd.to_datetime(Dairy_df['Date']) # to datetime\n",
    "Dairy_df['Date'] = Dairy_df['Date'].dt.to_period('M').dt.to_timestamp() #First day of the month\n",
    "\n",
    "# Cost of labour data, average wages\n",
    "file_path3 = \"C:/Users/PHIRI003/OneDrive - Wageningen University & Research/Documents/WEcR Internship/Work/Dairy/cao_data_2020.xlsx\"\n",
    "cao_df= pd.read_excel(file_path3, header=0)\n",
    "cao_df['Date'] = pd.to_datetime(cao_df['Date'])\n"
   ]
  },
  {
   "cell_type": "code",
   "execution_count": null,
   "id": "253019a7-c050-4008-8294-e74e2d583695",
   "metadata": {},
   "outputs": [],
   "source": [
    "print(Dairy_df.head())\n",
    "print(silage_df.head())\n",
    "print(cao_df.head())"
   ]
  },
  {
   "cell_type": "code",
   "execution_count": 36,
   "id": "ddc25779-91ea-49c7-846b-7896d151f287",
   "metadata": {},
   "outputs": [
    {
     "name": "stdout",
     "output_type": "stream",
     "text": [
      "        Date  Year_si  Month_si  Maize  Year_ca  Month_ca  AWage  CWage  \\\n",
      "0 2023-10-01     2023        10   91.5     2023        10  133.6  137.7   \n",
      "1 2023-09-01     2023         9   94.5     2023         9  133.2  137.3   \n",
      "2 2023-08-01     2023         8  106.5     2023         8  132.8  136.9   \n",
      "3 2023-07-01     2023         7  108.0     2023         7  132.6  136.6   \n",
      "4 2023-06-01     2023         6  107.0     2023         6  130.8  134.8   \n",
      "\n",
      "     AWage_20    CWage_20  \n",
      "0  113.380481  113.535798  \n",
      "1  113.041018  113.205991  \n",
      "2  112.701556  112.876185  \n",
      "3  112.531825  112.628831  \n",
      "4  111.004243  111.144702  \n"
     ]
    }
   ],
   "source": [
    "df_merged = pd.merge(silage_df, cao_df, on='Date', suffixes=('_si', '_ca'))\n",
    "\n",
    "print(df_merged.head())"
   ]
  },
  {
   "cell_type": "code",
   "execution_count": 37,
   "id": "8f391282-946f-4442-9de1-421ff77e1e3a",
   "metadata": {},
   "outputs": [],
   "source": [
    "# Adding the cao_df \n",
    "df_merged = pd.merge(df_merged, Dairy_df, on='Date')"
   ]
  },
  {
   "cell_type": "code",
   "execution_count": 38,
   "id": "3af96700-3c79-4ba7-a12a-87b0ec064c7d",
   "metadata": {},
   "outputs": [
    {
     "name": "stdout",
     "output_type": "stream",
     "text": [
      "        Date  Year_si  Month_si  Maize  Year_ca  Month_ca  AWage  CWage  \\\n",
      "0 2023-10-01     2023        10   91.5     2023        10  133.6  137.7   \n",
      "1 2023-09-01     2023         9   94.5     2023         9  133.2  137.3   \n",
      "2 2023-08-01     2023         8  106.5     2023         8  132.8  136.9   \n",
      "3 2023-07-01     2023         7  108.0     2023         7  132.6  136.6   \n",
      "4 2023-06-01     2023         6  107.0     2023         6  130.8  134.8   \n",
      "\n",
      "     AWage_20    CWage_20  Unnamed: 0         API         PPI         CPI  \\\n",
      "0  113.380481  113.535798      202310  118.159359  158.575727  127.639507   \n",
      "1  113.041018  113.205991      202309  118.876069  157.873621  129.211423   \n",
      "2  112.701556  112.876185      202308  124.674902  157.472417  131.525631   \n",
      "3  112.531825  112.628831      202307  124.674902  158.676028  132.756964   \n",
      "4  111.004243  111.144702      202306  124.674902  155.867603  135.175967   \n",
      "\n",
      "        Wheat         Oil  \n",
      "0  116.683861  216.958352  \n",
      "1  123.651976  224.429766  \n",
      "2  130.133007  206.302010  \n",
      "3  150.187498  191.838119  \n",
      "4  152.159942  179.218136  \n"
     ]
    }
   ],
   "source": [
    "print(df_merged.head())"
   ]
  },
  {
   "cell_type": "code",
   "execution_count": 40,
   "id": "edd2e98f-8d15-482e-824e-f219e2bffc61",
   "metadata": {},
   "outputs": [
    {
     "name": "stdout",
     "output_type": "stream",
     "text": [
      "        Date  Maize    AWage_20    CWage_20         API         PPI  \\\n",
      "0 2023-10-01   91.5  113.380481  113.535798  118.159359  158.575727   \n",
      "1 2023-09-01   94.5  113.041018  113.205991  118.876069  157.873621   \n",
      "2 2023-08-01  106.5  112.701556  112.876185  124.674902  157.472417   \n",
      "3 2023-07-01  108.0  112.531825  112.628831  124.674902  158.676028   \n",
      "4 2023-06-01  107.0  111.004243  111.144702  124.674902  155.867603   \n",
      "\n",
      "          CPI         Oil  \n",
      "0  127.639507  216.958352  \n",
      "1  129.211423  224.429766  \n",
      "2  131.525631  206.302010  \n",
      "3  132.756964  191.838119  \n",
      "4  135.175967  179.218136  \n"
     ]
    }
   ],
   "source": [
    "col_drop = ['Year_si', 'Month_si', 'Year_ca',  'Month_ca',  'AWage', 'CWage', 'Unnamed: 0',  'Wheat']\n",
    "df_merged = df_merged.drop(columns=col_drop)\n",
    "print(df_merged.head())"
   ]
  },
  {
   "cell_type": "code",
   "execution_count": 47,
   "id": "451733dc-eb32-46bb-aa18-8e408b411604",
   "metadata": {},
   "outputs": [
    {
     "name": "stdout",
     "output_type": "stream",
     "text": [
      "        Date   CornPrice\n",
      "0 2005-01-01   96.038759\n",
      "1 2005-02-01   94.359394\n",
      "2 2005-03-01  100.014011\n",
      "3 2005-04-01   96.470872\n",
      "4 2005-05-01   95.364812\n"
     ]
    }
   ],
   "source": [
    "file_path4 = \"C:/Users/PHIRI003/OneDrive - Wageningen University & Research/Documents/WEcR Internship/Work/Dairy/Corn_Prices.xlsx\"\n",
    "corn_df= pd.read_excel(file_path4, header=0, sheet_name = 'Data')\n",
    "\n",
    "print(corn_df.head())"
   ]
  },
  {
   "cell_type": "code",
   "execution_count": 48,
   "id": "5f34086c-61dd-4d04-b862-7401f63e2407",
   "metadata": {},
   "outputs": [
    {
     "name": "stdout",
     "output_type": "stream",
     "text": [
      "        Date  Maize    AWage_20    CWage_20         API         PPI  \\\n",
      "0 2023-10-01   91.5  113.380481  113.535798  118.159359  158.575727   \n",
      "1 2023-09-01   94.5  113.041018  113.205991  118.876069  157.873621   \n",
      "2 2023-08-01  106.5  112.701556  112.876185  124.674902  157.472417   \n",
      "3 2023-07-01  108.0  112.531825  112.628831  124.674902  158.676028   \n",
      "4 2023-06-01  107.0  111.004243  111.144702  124.674902  155.867603   \n",
      "\n",
      "          CPI         Oil   CornPrice  \n",
      "0  127.639507  216.958352  221.902519  \n",
      "1  129.211423  224.429766  223.847666  \n",
      "2  131.525631  206.302010  207.675889  \n",
      "3  132.756964  191.838119  235.271947  \n",
      "4  135.175967  179.218136  266.935240  \n"
     ]
    }
   ],
   "source": [
    "corn_df['Date'] = pd.to_datetime(corn_df['Date'])\n",
    "\n",
    "Dairy_Merged  = pd.merge(df_merged, corn_df, on='Date')\n",
    "print(Dairy_Merged.head())"
   ]
  },
  {
   "cell_type": "code",
   "execution_count": 51,
   "id": "6b74eefb-9bab-414a-b5ef-c670029f39e9",
   "metadata": {},
   "outputs": [
    {
     "name": "stdout",
     "output_type": "stream",
     "text": [
      "72.25\n",
      "165.578388484418\n"
     ]
    }
   ],
   "source": [
    "# Filter the DataFrame to include only rows from the year 2020\n",
    "df_2020 = Dairy_Merged[Dairy_Merged['Date'].dt.year == 2020]\n",
    "\n",
    "# Calculate the average for a specific variable, e.g., 'Maize'\n",
    "average_maize_2020 = df_2020['Maize'].mean()\n",
    "average_corn_2020 = df_2020['CornPrice'].mean()\n",
    "\n",
    "print(average_maize_2020)\n",
    "print(average_corn_2020)"
   ]
  },
  {
   "cell_type": "code",
   "execution_count": 53,
   "id": "b36add1e-b3fa-4f19-8c7b-e0ee67d0d3a4",
   "metadata": {},
   "outputs": [
    {
     "name": "stdout",
     "output_type": "stream",
     "text": [
      "        Date  Maize    AWage_20    CWage_20         API         PPI  \\\n",
      "0 2023-10-01   91.5  113.380481  113.535798  118.159359  158.575727   \n",
      "1 2023-09-01   94.5  113.041018  113.205991  118.876069  157.873621   \n",
      "2 2023-08-01  106.5  112.701556  112.876185  124.674902  157.472417   \n",
      "3 2023-07-01  108.0  112.531825  112.628831  124.674902  158.676028   \n",
      "4 2023-06-01  107.0  111.004243  111.144702  124.674902  155.867603   \n",
      "\n",
      "          CPI         Oil   CornPrice   Silage_PI     Corn_PI  \n",
      "0  127.639507  216.958352  221.902519  126.643599  134.016595  \n",
      "1  129.211423  224.429766  223.847666  130.795848  135.191355  \n",
      "2  131.525631  206.302010  207.675889  147.404844  125.424514  \n",
      "3  132.756964  191.838119  235.271947  149.480969  142.090975  \n",
      "4  135.175967  179.218136  266.935240  148.096886  161.213817  \n"
     ]
    }
   ],
   "source": [
    "#Calculating price index for corn and silage prices\n",
    "Dairy_Merged['Silage_PI'] = (Dairy_Merged['Maize']/average_maize_2020)*100\n",
    "Dairy_Merged['Corn_PI'] = (Dairy_Merged['CornPrice']/average_corn_2020)*100\n",
    "print(Dairy_Merged.head())"
   ]
  },
  {
   "cell_type": "code",
   "execution_count": 54,
   "id": "2804ef54-5443-4914-996b-16119c102a61",
   "metadata": {},
   "outputs": [],
   "source": [
    "Dairy_Merged.to_excel('C:/Users/PHIRI003/OneDrive - Wageningen University & Research/Documents/WEcR Internship/Work/Dairy/Merged_data.xlsx', index=False)"
   ]
  },
  {
   "cell_type": "code",
   "execution_count": null,
   "id": "84d9e135-84b9-43d1-ade8-33f4496a1476",
   "metadata": {},
   "outputs": [],
   "source": []
  }
 ],
 "metadata": {
  "kernelspec": {
   "display_name": "Python 3 (ipykernel)",
   "language": "python",
   "name": "python3"
  },
  "language_info": {
   "codemirror_mode": {
    "name": "ipython",
    "version": 3
   },
   "file_extension": ".py",
   "mimetype": "text/x-python",
   "name": "python",
   "nbconvert_exporter": "python",
   "pygments_lexer": "ipython3",
   "version": "3.13.5"
  }
 },
 "nbformat": 4,
 "nbformat_minor": 5
}
